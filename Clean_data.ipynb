{
 "cells": [
  {
   "cell_type": "code",
   "execution_count": 22,
   "id": "c8dd8968-74e5-4c16-bc18-6bc8b0f2266b",
   "metadata": {},
   "outputs": [
    {
     "name": "stderr",
     "output_type": "stream",
     "text": [
      "[Stage 32:=====================================================>  (22 + 1) / 23]\r"
     ]
    },
    {
     "name": "stdout",
     "output_type": "stream",
     "text": [
      "+----+-------+--------+-------------------+-------------------+------------------+------------------+-------+-------+------------+--------------------+--------------------+------------+----------+-----+----------+-------+----------+------------+-------------------+--------------+-------------+-----------+------------+--------------+--------------+---------------+-----------------+-----------------+-------+-----+--------+--------+--------+-------+-------+----------+-------+-----+---------------+--------------+------------+--------------+--------------+-----------------+---------------------+\n",
      "|  ID| Source|Severity|         Start_Time|           End_Time|         Start_Lat|         Start_Lng|End_Lat|End_Lng|Distance(mi)|         Description|              Street|        City|    County|State|   Zipcode|Country|  Timezone|Airport_Code|  Weather_Timestamp|Temperature(F)|Wind_Chill(F)|Humidity(%)|Pressure(in)|Visibility(mi)|Wind_Direction|Wind_Speed(mph)|Precipitation(in)|Weather_Condition|Amenity| Bump|Crossing|Give_Way|Junction|No_Exit|Railway|Roundabout|Station| Stop|Traffic_Calming|Traffic_Signal|Turning_Loop|Sunrise_Sunset|Civil_Twilight|Nautical_Twilight|Astronomical_Twilight|\n",
      "+----+-------+--------+-------------------+-------------------+------------------+------------------+-------+-------+------------+--------------------+--------------------+------------+----------+-----+----------+-------+----------+------------+-------------------+--------------+-------------+-----------+------------+--------------+--------------+---------------+-----------------+-----------------+-------+-----+--------+--------+--------+-------+-------+----------+-------+-----+---------------+--------------+------------+--------------+--------------+-----------------+---------------------+\n",
      "| A-1|Source2|       3|2016-02-08 05:46:00|2016-02-08 11:00:00|         39.865147|        -84.058723|   NULL|   NULL|        0.01|Right lane blocke...|              I-70 E|      Dayton|Montgomery|   OH|     45424|     US|US/Eastern|        KFFO|2016-02-08 05:58:00|          36.9|         NULL|       91.0|       29.68|          10.0|          Calm|           NULL|             0.02|       Light Rain|  false|false|   false|   false|   false|  false|  false|     false|  false|false|          false|         false|       false|         Night|         Night|            Night|                Night|\n",
      "| A-2|Source2|       2|2016-02-08 06:07:59|2016-02-08 06:37:59| 39.92805900000001|        -82.831184|   NULL|   NULL|        0.01|Accident on Brice...|            Brice Rd|Reynoldsburg|  Franklin|   OH|43068-3402|     US|US/Eastern|        KCMH|2016-02-08 05:51:00|          37.9|         NULL|      100.0|       29.65|          10.0|          Calm|           NULL|              0.0|       Light Rain|  false|false|   false|   false|   false|  false|  false|     false|  false|false|          false|         false|       false|         Night|         Night|            Night|                  Day|\n",
      "| A-3|Source2|       2|2016-02-08 06:49:27|2016-02-08 07:19:27|         39.063148|        -84.032608|   NULL|   NULL|        0.01|Accident on OH-32...|      State Route 32|Williamsburg|  Clermont|   OH|     45176|     US|US/Eastern|        KI69|2016-02-08 06:56:00|          36.0|         33.3|      100.0|       29.67|          10.0|            SW|            3.5|             NULL|         Overcast|  false|false|   false|   false|   false|  false|  false|     false|  false|false|          false|          true|       false|         Night|         Night|              Day|                  Day|\n",
      "| A-4|Source2|       3|2016-02-08 07:23:34|2016-02-08 07:53:34|         39.747753|-84.20558199999998|   NULL|   NULL|        0.01|Accident on I-75 ...|              I-75 S|      Dayton|Montgomery|   OH|     45417|     US|US/Eastern|        KDAY|2016-02-08 07:38:00|          35.1|         31.0|       96.0|       29.64|           9.0|            SW|            4.6|             NULL|    Mostly Cloudy|  false|false|   false|   false|   false|  false|  false|     false|  false|false|          false|         false|       false|         Night|           Day|              Day|                  Day|\n",
      "| A-5|Source2|       2|2016-02-08 07:39:07|2016-02-08 08:09:07|         39.627781|        -84.188354|   NULL|   NULL|        0.01|Accident on McEwe...|Miamisburg Center...|      Dayton|Montgomery|   OH|     45459|     US|US/Eastern|        KMGY|2016-02-08 07:53:00|          36.0|         33.3|       89.0|       29.65|           6.0|            SW|            3.5|             NULL|    Mostly Cloudy|  false|false|   false|   false|   false|  false|  false|     false|  false|false|          false|          true|       false|           Day|           Day|              Day|                  Day|\n",
      "| A-6|Source2|       3|2016-02-08 07:44:26|2016-02-08 08:14:26|40.100590000000004|-82.92519399999998|   NULL|   NULL|        0.01|Accident on I-270...|      Westerville Rd| Westerville|  Franklin|   OH|     43081|     US|US/Eastern|        KCMH|2016-02-08 07:51:00|          37.9|         35.5|       97.0|       29.63|           7.0|           SSW|            3.5|             0.03|       Light Rain|  false|false|   false|   false|   false|  false|  false|     false|  false|false|          false|         false|       false|           Day|           Day|              Day|                  Day|\n",
      "| A-7|Source2|       2|2016-02-08 07:59:35|2016-02-08 08:29:35|         39.758274|-84.23050699999997|   NULL|   NULL|         0.0|Accident on Oakri...|      N Woodward Ave|      Dayton|Montgomery|   OH|45417-2476|     US|US/Eastern|        KDAY|2016-02-08 07:56:00|          34.0|         31.0|      100.0|       29.66|           7.0|           WSW|            3.5|             NULL|         Overcast|  false|false|   false|   false|   false|  false|  false|     false|  false|false|          false|         false|       false|           Day|           Day|              Day|                  Day|\n",
      "| A-8|Source2|       3|2016-02-08 07:59:58|2016-02-08 08:29:58|         39.770382|        -84.194901|   NULL|   NULL|        0.01|Accident on I-75 ...|           N Main St|      Dayton|Montgomery|   OH|     45405|     US|US/Eastern|        KDAY|2016-02-08 07:56:00|          34.0|         31.0|      100.0|       29.66|           7.0|           WSW|            3.5|             NULL|         Overcast|  false|false|   false|   false|   false|  false|  false|     false|  false|false|          false|         false|       false|           Day|           Day|              Day|                  Day|\n",
      "| A-9|Source2|       2|2016-02-08 08:00:40|2016-02-08 08:30:40|         39.778061|        -84.172005|   NULL|   NULL|         0.0|Accident on Notre...|      Notre Dame Ave|      Dayton|Montgomery|   OH|45404-1923|     US|US/Eastern|        KFFO|2016-02-08 07:58:00|          33.3|         NULL|       99.0|       29.67|           5.0|            SW|            1.2|             NULL|    Mostly Cloudy|  false|false|   false|   false|   false|  false|  false|     false|  false|false|          false|         false|       false|           Day|           Day|              Day|                  Day|\n",
      "|A-10|Source2|       3|2016-02-08 08:10:04|2016-02-08 08:40:04|40.100590000000004|-82.92519399999998|   NULL|   NULL|        0.01|Right hand should...|      Westerville Rd| Westerville|  Franklin|   OH|     43081|     US|US/Eastern|        KCMH|2016-02-08 08:28:00|          37.4|         33.8|      100.0|       29.62|           3.0|           SSW|            4.6|             0.02|       Light Rain|  false|false|   false|   false|   false|  false|  false|     false|  false|false|          false|         false|       false|           Day|           Day|              Day|                  Day|\n",
      "|A-11|Source2|       3|2016-02-08 08:14:42|2016-02-08 08:44:42|         39.952812|        -83.119293|   NULL|   NULL|        0.01|Accident on I-270...|         Outerbelt S|    Columbus|  Franklin|   OH|     43228|     US|US/Eastern|        KTZR|2016-02-08 07:50:00|          35.6|         30.7|       93.0|       29.64|           5.0|           WNW|            5.8|             NULL|             Rain|  false|false|    true|   false|    true|  false|  false|     false|  false|false|          false|         false|       false|           Day|           Day|              Day|                  Day|\n",
      "|A-12|Source2|       3|2016-02-08 08:21:27|2016-02-08 08:51:27|         39.932709|         -82.83091|   NULL|   NULL|        0.01|One lane blocked ...|              I-70 E|Reynoldsburg|  Franklin|   OH|     43068|     US|US/Eastern|        KCMH|2016-02-08 08:28:00|          37.4|         33.8|      100.0|       29.62|           3.0|           SSW|            4.6|             0.02|       Light Rain|  false|false|   false|   false|   false|  false|  false|     false|  false|false|          false|         false|       false|           Day|           Day|              Day|                  Day|\n",
      "|A-13|Source2|       2|2016-02-08 08:36:34|2016-02-08 09:06:34|         39.737633|-84.14993299999998|   NULL|   NULL|         0.0|Accident on Rever...|      Watervliet Ave|      Dayton|Montgomery|   OH|45420-1863|     US|US/Eastern|        KFFO|2016-02-08 08:28:00|          33.8|         NULL|      100.0|       29.63|           3.0|            SW|            2.3|             NULL|         Overcast|  false|false|   false|   false|   false|  false|  false|     false|  false|false|          false|         false|       false|           Day|           Day|              Day|                  Day|\n",
      "|A-14|Source2|       2|2016-02-08 08:37:07|2016-02-08 09:07:07|          39.79076|        -84.241547|   NULL|   NULL|        0.01|Accident on Salem...|           Salem Ave|      Dayton|Montgomery|   OH|45406-2708|     US|US/Eastern|        KDAY|2016-02-08 08:56:00|          36.0|         31.1|       89.0|       29.65|          10.0|            NW|            5.8|             NULL|    Mostly Cloudy|  false|false|   false|   false|   false|  false|  false|     false|  false|false|          false|          true|       false|           Day|           Day|              Day|                  Day|\n",
      "|A-15|Source2|       2|2016-02-08 08:39:43|2016-02-08 09:09:43|         39.972038|        -82.913521|   NULL|   NULL|        0.01|Accident on OH-16...|          E Broad St|    Columbus|  Franklin|   OH|43213-1006|     US|US/Eastern|        KCMH|2016-02-08 08:28:00|          37.4|         33.8|      100.0|       29.62|           3.0|           SSW|            4.6|             0.02|       Light Rain|  false|false|   false|   false|   false|  false|  false|     false|  false|false|          false|          true|       false|           Day|           Day|              Day|                  Day|\n",
      "|A-16|Source2|       2|2016-02-08 08:43:20|2016-02-08 09:13:20|         39.745888|         -84.17041|   NULL|   NULL|        0.01|Accident on Wayne...|         Glencoe Ave|      Dayton|Montgomery|   OH|45410-1721|     US|US/Eastern|        KFFO|2016-02-08 08:28:00|          33.8|         NULL|      100.0|       29.63|           3.0|            SW|            2.3|             NULL|         Overcast|  false|false|   false|   false|   false|  false|  false|     false|  false|false|          false|         false|       false|           Day|           Day|              Day|                  Day|\n",
      "|A-17|Source2|       2|2016-02-08 08:53:17|2016-02-08 09:23:17|         39.748329|        -84.224007|   NULL|   NULL|        0.01|Accident on James...|S James H McGee Blvd|      Dayton|Montgomery|   OH|     45402|     US|US/Eastern|        KFFO|2016-02-08 08:58:00|          35.6|         NULL|       99.0|       29.65|           7.0|           WSW|            2.3|             NULL|    Mostly Cloudy|  false|false|   false|   false|   false|  false|  false|     false|  false|false|          false|         false|       false|           Day|           Day|              Day|                  Day|\n",
      "|A-18|Source2|       2|2016-02-08 09:24:37|2016-02-08 09:54:37|         39.752174|        -84.239952|   NULL|   NULL|         0.0|Accident on Delph...|         Delphos Ave|      Dayton|Montgomery|   OH|45417-1727|     US|US/Eastern|        KDAY|2016-02-08 08:56:00|          36.0|         31.1|       89.0|       29.65|          10.0|            NW|            5.8|             NULL|    Mostly Cloudy|  false|false|   false|   false|   false|  false|  false|     false|  false|false|          false|         false|       false|           Day|           Day|              Day|                  Day|\n",
      "|A-19|Source2|       2|2016-02-08 09:25:17|2016-02-08 09:55:17|         39.740669|        -84.184135|   NULL|   NULL|        0.01|Accident on Stewa...|          Rubicon St|      Dayton|Montgomery|   OH|45409-2659|     US|US/Eastern|        KFFO|2016-02-08 09:38:00|          37.4|         32.1|       93.0|       29.63|          10.0|           WSW|            6.9|             NULL|         Overcast|  false|false|    true|   false|   false|  false|  false|     false|  false|false|          false|          true|       false|           Day|           Day|              Day|                  Day|\n",
      "|A-20|Source2|       2|2016-02-08 09:35:35|2016-02-08 10:05:35|         39.790703|        -84.244461|   NULL|   NULL|        0.01|Accident on Hillc...|     W Hillcrest Ave|      Dayton|Montgomery|   OH|45406-2640|     US|US/Eastern|        KDAY|2016-02-08 09:56:00|          36.0|         30.3|       89.0|       29.65|          10.0|          West|            6.9|             NULL|    Mostly Cloudy|  false|false|   false|   false|   false|  false|  false|     false|  false|false|          false|         false|       false|           Day|           Day|              Day|                  Day|\n",
      "+----+-------+--------+-------------------+-------------------+------------------+------------------+-------+-------+------------+--------------------+--------------------+------------+----------+-----+----------+-------+----------+------------+-------------------+--------------+-------------+-----------+------------+--------------+--------------+---------------+-----------------+-----------------+-------+-----+--------+--------+--------+-------+-------+----------+-------+-----+---------------+--------------+------------+--------------+--------------+-----------------+---------------------+\n",
      "only showing top 20 rows\n",
      "\n"
     ]
    },
    {
     "name": "stderr",
     "output_type": "stream",
     "text": [
      "                                                                                \r"
     ]
    }
   ],
   "source": [
    "from pyspark.sql import SparkSession\n",
    "\n",
    "# Create the Spark session\n",
    "spark = SparkSession.builder \\\n",
    "    .appName(\"CSV Reader\") \\\n",
    "    .config(\"spark.hadoop.fs.s3a.aws.credentials.provider\", \"com.amazonaws.auth.DefaultAWSCredentialsProviderChain\") \\\n",
    "    .config(\"spark.jars.packages\", \"org.apache.hadoop:hadoop-aws:3.3.4,com.amazonaws:aws-java-sdk-bundle:1.11.1026\") \\\n",
    "    .getOrCreate()\n",
    "\n",
    "# Define the path to the CSV file in S3\n",
    "csv_path = \"s3a://final-project-group-14/US_Accidents_March23.csv\"\n",
    "\n",
    "# Read the CSV file using the DataFrame API\n",
    "df = spark.read \\\n",
    "    .option(\"header\", \"true\") \\\n",
    "    .option(\"inferSchema\", \"true\") \\\n",
    "    .csv(csv_path)\n",
    "\n",
    "# Show the DataFrame content\n",
    "df.show()"
   ]
  },
  {
   "cell_type": "code",
   "execution_count": 7,
   "id": "716480ad-b8b8-4c54-9fff-8116af4be2f9",
   "metadata": {},
   "outputs": [
    {
     "name": "stdout",
     "output_type": "stream",
     "text": [
      "+----+--------+-------------------+-------------------+------------------+------------------+------------+--------------------+------------+----------+-----+----------+-------+--------------+---------------+-----------------+-----------------+--------+--------+-----+--------------+--------------+\n",
      "|  ID|Severity|         Start_Time|           End_Time|         Start_Lat|         Start_Lng|Distance(mi)|              Street|        City|    County|State|   Zipcode|Country|Visibility(mi)|Wind_Speed(mph)|Precipitation(in)|Weather_Condition|Crossing|Junction| Stop|Traffic_Signal|Sunrise_Sunset|\n",
      "+----+--------+-------------------+-------------------+------------------+------------------+------------+--------------------+------------+----------+-----+----------+-------+--------------+---------------+-----------------+-----------------+--------+--------+-----+--------------+--------------+\n",
      "| A-1|       3|2016-02-08 05:46:00|2016-02-08 11:00:00|         39.865147|        -84.058723|        0.01|              I-70 E|      Dayton|Montgomery|   OH|     45424|     US|          10.0|           NULL|             0.02|       Light Rain|   false|   false|false|         false|         Night|\n",
      "| A-2|       2|2016-02-08 06:07:59|2016-02-08 06:37:59| 39.92805900000001|        -82.831184|        0.01|            Brice Rd|Reynoldsburg|  Franklin|   OH|43068-3402|     US|          10.0|           NULL|              0.0|       Light Rain|   false|   false|false|         false|         Night|\n",
      "| A-3|       2|2016-02-08 06:49:27|2016-02-08 07:19:27|         39.063148|        -84.032608|        0.01|      State Route 32|Williamsburg|  Clermont|   OH|     45176|     US|          10.0|            3.5|             NULL|         Overcast|   false|   false|false|          true|         Night|\n",
      "| A-4|       3|2016-02-08 07:23:34|2016-02-08 07:53:34|         39.747753|-84.20558199999998|        0.01|              I-75 S|      Dayton|Montgomery|   OH|     45417|     US|           9.0|            4.6|             NULL|    Mostly Cloudy|   false|   false|false|         false|         Night|\n",
      "| A-5|       2|2016-02-08 07:39:07|2016-02-08 08:09:07|         39.627781|        -84.188354|        0.01|Miamisburg Center...|      Dayton|Montgomery|   OH|     45459|     US|           6.0|            3.5|             NULL|    Mostly Cloudy|   false|   false|false|          true|           Day|\n",
      "| A-6|       3|2016-02-08 07:44:26|2016-02-08 08:14:26|40.100590000000004|-82.92519399999998|        0.01|      Westerville Rd| Westerville|  Franklin|   OH|     43081|     US|           7.0|            3.5|             0.03|       Light Rain|   false|   false|false|         false|           Day|\n",
      "| A-7|       2|2016-02-08 07:59:35|2016-02-08 08:29:35|         39.758274|-84.23050699999997|         0.0|      N Woodward Ave|      Dayton|Montgomery|   OH|45417-2476|     US|           7.0|            3.5|             NULL|         Overcast|   false|   false|false|         false|           Day|\n",
      "| A-8|       3|2016-02-08 07:59:58|2016-02-08 08:29:58|         39.770382|        -84.194901|        0.01|           N Main St|      Dayton|Montgomery|   OH|     45405|     US|           7.0|            3.5|             NULL|         Overcast|   false|   false|false|         false|           Day|\n",
      "| A-9|       2|2016-02-08 08:00:40|2016-02-08 08:30:40|         39.778061|        -84.172005|         0.0|      Notre Dame Ave|      Dayton|Montgomery|   OH|45404-1923|     US|           5.0|            1.2|             NULL|    Mostly Cloudy|   false|   false|false|         false|           Day|\n",
      "|A-10|       3|2016-02-08 08:10:04|2016-02-08 08:40:04|40.100590000000004|-82.92519399999998|        0.01|      Westerville Rd| Westerville|  Franklin|   OH|     43081|     US|           3.0|            4.6|             0.02|       Light Rain|   false|   false|false|         false|           Day|\n",
      "|A-11|       3|2016-02-08 08:14:42|2016-02-08 08:44:42|         39.952812|        -83.119293|        0.01|         Outerbelt S|    Columbus|  Franklin|   OH|     43228|     US|           5.0|            5.8|             NULL|             Rain|    true|    true|false|         false|           Day|\n",
      "|A-12|       3|2016-02-08 08:21:27|2016-02-08 08:51:27|         39.932709|         -82.83091|        0.01|              I-70 E|Reynoldsburg|  Franklin|   OH|     43068|     US|           3.0|            4.6|             0.02|       Light Rain|   false|   false|false|         false|           Day|\n",
      "|A-13|       2|2016-02-08 08:36:34|2016-02-08 09:06:34|         39.737633|-84.14993299999998|         0.0|      Watervliet Ave|      Dayton|Montgomery|   OH|45420-1863|     US|           3.0|            2.3|             NULL|         Overcast|   false|   false|false|         false|           Day|\n",
      "|A-14|       2|2016-02-08 08:37:07|2016-02-08 09:07:07|          39.79076|        -84.241547|        0.01|           Salem Ave|      Dayton|Montgomery|   OH|45406-2708|     US|          10.0|            5.8|             NULL|    Mostly Cloudy|   false|   false|false|          true|           Day|\n",
      "|A-15|       2|2016-02-08 08:39:43|2016-02-08 09:09:43|         39.972038|        -82.913521|        0.01|          E Broad St|    Columbus|  Franklin|   OH|43213-1006|     US|           3.0|            4.6|             0.02|       Light Rain|   false|   false|false|          true|           Day|\n",
      "|A-16|       2|2016-02-08 08:43:20|2016-02-08 09:13:20|         39.745888|         -84.17041|        0.01|         Glencoe Ave|      Dayton|Montgomery|   OH|45410-1721|     US|           3.0|            2.3|             NULL|         Overcast|   false|   false|false|         false|           Day|\n",
      "|A-17|       2|2016-02-08 08:53:17|2016-02-08 09:23:17|         39.748329|        -84.224007|        0.01|S James H McGee Blvd|      Dayton|Montgomery|   OH|     45402|     US|           7.0|            2.3|             NULL|    Mostly Cloudy|   false|   false|false|         false|           Day|\n",
      "|A-18|       2|2016-02-08 09:24:37|2016-02-08 09:54:37|         39.752174|        -84.239952|         0.0|         Delphos Ave|      Dayton|Montgomery|   OH|45417-1727|     US|          10.0|            5.8|             NULL|    Mostly Cloudy|   false|   false|false|         false|           Day|\n",
      "|A-19|       2|2016-02-08 09:25:17|2016-02-08 09:55:17|         39.740669|        -84.184135|        0.01|          Rubicon St|      Dayton|Montgomery|   OH|45409-2659|     US|          10.0|            6.9|             NULL|         Overcast|    true|   false|false|          true|           Day|\n",
      "|A-20|       2|2016-02-08 09:35:35|2016-02-08 10:05:35|         39.790703|        -84.244461|        0.01|     W Hillcrest Ave|      Dayton|Montgomery|   OH|45406-2640|     US|          10.0|            6.9|             NULL|    Mostly Cloudy|   false|   false|false|         false|           Day|\n",
      "+----+--------+-------------------+-------------------+------------------+------------------+------------+--------------------+------------+----------+-----+----------+-------+--------------+---------------+-----------------+-----------------+--------+--------+-----+--------------+--------------+\n",
      "only showing top 20 rows\n",
      "\n"
     ]
    }
   ],
   "source": [
    "# List of columns to drop (all previously mentioned columns)\n",
    "columns_to_drop = [\n",
    "    \"Astronomical_Twilight\",\n",
    "    \"Nautical_Twilight\",\n",
    "    \"Civil_Twilight\",\n",
    "    \"Wind_Direction\",\n",
    "    \"Pressure(in)\",\n",
    "    \"Humidity(%)\",\n",
    "    \"Wind_Chill(F)\",\n",
    "    \"Temperature(F)\",\n",
    "    \"Airport_Code\",\n",
    "     \"Railway\",\n",
    "    \"End_Lng\",\n",
    "    \"End_Lat\",\n",
    "    \"Source\",\n",
    "    \"Description\",\n",
    "    \"Timezone\",\n",
    "    \"Weather_Timestamp\",\n",
    "    \"Amenity\",\n",
    "    \"Bump\",\n",
    "    \"Give_Way\",\n",
    "    \"Roundabout\",\n",
    "    \"Station\",\n",
    "    \"Traffic_Calming\",\n",
    "    \"Turning_Loop\",\n",
    "    \"No_Exit\"  # Added this column to the list\n",
    "]\n",
    "\n",
    "# Drop the specified columns\n",
    "df_cleaned = df.drop(*columns_to_drop)\n",
    "\n",
    "# Show the cleaned DataFrame content\n",
    "df_cleaned.show()"
   ]
  },
  {
   "cell_type": "code",
   "execution_count": 8,
   "id": "10adc7d5-dbfd-4946-bdd6-7e3d728089b9",
   "metadata": {},
   "outputs": [
    {
     "name": "stderr",
     "output_type": "stream",
     "text": [
      "[Stage 9:======================================================>  (22 + 1) / 23]\r"
     ]
    },
    {
     "name": "stdout",
     "output_type": "stream",
     "text": [
      "The number of rows in the cleaned DataFrame is: 7728394\n"
     ]
    },
    {
     "name": "stderr",
     "output_type": "stream",
     "text": [
      "                                                                                \r"
     ]
    }
   ],
   "source": [
    "# Count the number of rows in the DataFrame\n",
    "row_count = df_cleaned.count()\n",
    "\n",
    "# Print the number of rows\n",
    "print(f\"The number of rows in the cleaned DataFrame is: {row_count}\")"
   ]
  },
  {
   "cell_type": "code",
   "execution_count": 9,
   "id": "e478a04d-ebe6-4dc6-a353-c797a881cf38",
   "metadata": {},
   "outputs": [
    {
     "name": "stderr",
     "output_type": "stream",
     "text": [
      "[Stage 14:====================================================>   (17 + 1) / 18]\r"
     ]
    },
    {
     "name": "stdout",
     "output_type": "stream",
     "text": [
      "+---------+-------+--------+-------------------+-------------------+---------+------------------+-----------------+------------------+-------------------+--------------------+---------------+-----------+----------+-----+-------+-------+----------+------------+-------------------+--------------+-------------+-----------+------------+--------------+--------------+---------------+-----------------+-----------------+-------+-----+--------+--------+--------+-------+-------+----------+-------+-----+---------------+--------------+------------+--------------+--------------+-----------------+---------------------+\n",
      "|       ID| Source|Severity|         Start_Time|           End_Time|Start_Lat|         Start_Lng|          End_Lat|           End_Lng|       Distance(mi)|         Description|         Street|       City|    County|State|Zipcode|Country|  Timezone|Airport_Code|  Weather_Timestamp|Temperature(F)|Wind_Chill(F)|Humidity(%)|Pressure(in)|Visibility(mi)|Wind_Direction|Wind_Speed(mph)|Precipitation(in)|Weather_Condition|Amenity| Bump|Crossing|Give_Way|Junction|No_Exit|Railway|Roundabout|Station| Stop|Traffic_Calming|Traffic_Signal|Turning_Loop|Sunrise_Sunset|Civil_Twilight|Nautical_Twilight|Astronomical_Twilight|\n",
      "+---------+-------+--------+-------------------+-------------------+---------+------------------+-----------------+------------------+-------------------+--------------------+---------------+-----------+----------+-----+-------+-------+----------+------------+-------------------+--------------+-------------+-----------+------------+--------------+--------------+---------------+-----------------+-----------------+-------+-----+--------+--------+--------+-------+-------+----------+-------+-----+---------------+--------------+------------+--------------+--------------+-----------------+---------------------+\n",
      "|A-3412645|Source1|       3|2016-02-08 00:37:08|2016-02-08 06:37:08| 40.10891|         -83.09286|         40.11206|         -83.03187|               3.23|Between Sawmill R...|    Outerbelt E|     Dublin|  Franklin|   OH|  43017|     US|US/Eastern|        KOSU|2016-02-08 00:53:00|          42.1|         36.1|       58.0|       29.76|          10.0|            SW|           10.4|              0.0|       Light Rain|  false|false|   false|   false|   false|  false|  false|     false|  false|false|          false|         false|       false|         Night|         Night|            Night|                Night|\n",
      "|A-3412650|Source1|       3|2016-02-08 07:53:43|2016-02-08 13:53:43|39.172393|-84.49279200000002|        39.170476|        -84.501798|                0.5|At Mitchell Ave/E...|         I-75 S| Cincinnati|  Hamilton|   OH|  45217|     US|US/Eastern|        KLUK|2016-02-08 07:53:00|          37.0|         29.8|       93.0|       29.69|          10.0|           WSW|           10.4|             0.01|       Light Rain|  false|false|   false|   false|   false|  false|  false|     false|  false|false|          false|         false|       false|           Day|           Day|              Day|                  Day|\n",
      "|A-3412654|Source1|       2|2016-02-08 11:51:46|2016-02-08 17:51:46| 41.37531|-81.82016999999998|         41.36786|         -81.82174|              0.521|At Bagley Rd/Exit...|         I-71 S|  Cleveland|  Cuyahoga|   OH|  44130|     US|US/Eastern|        KCLE|2016-02-08 11:51:00|          33.1|         30.0|       92.0|       29.63|           0.5|            SW|            3.5|             0.08|             Snow|  false|false|   false|   false|    true|  false|  false|     false|  false|false|          false|         false|       false|           Day|           Day|              Day|                  Day|\n",
      "|A-3412656|Source1|       2|2016-02-08 15:16:43|2016-02-08 21:16:43| 40.10931|         -82.96849|         40.11078|           -82.984|              0.826|At I-71/Exit 26 -...|    Outerbelt W|Westerville|  Franklin|   OH|  43081|     US|US/Eastern|        KCMH|2016-02-08 15:12:00|          32.0|         28.7|      100.0|       29.59|           0.5|          West|            3.5|             0.05|             Snow|  false|false|   false|   false|   false|  false|  false|     false|  false|false|          false|         false|       false|           Day|           Day|              Day|                  Day|\n",
      "|A-3412657|Source1|       2|2016-02-08 15:43:50|2016-02-08 21:43:50| 39.19288|         -84.47723|         39.19615|         -84.47335|              0.307|At OH-4/Paddock R...|         I-75 N| Cincinnati|  Hamilton|   OH|  45216|     US|US/Eastern|        KLUK|2016-02-08 15:47:00|          33.8|         29.6|      100.0|       29.66|           3.0|           NNW|            4.6|             0.03|       Light Snow|  false|false|   false|   false|   false|  false|  false|     false|  false|false|          false|         false|       false|           Day|           Day|              Day|                  Day|\n",
      "|A-3412659|Source1|       2|2016-02-08 17:27:39|2016-02-08 23:27:39|  41.4739|        -81.704233|         41.47388|         -81.70559|               0.07|At US-42/Exit 170...|         I-90 E|  Cleveland|  Cuyahoga|   OH|  44113|     US|US/Eastern|        KBKL|2016-02-08 17:36:00|          33.1|         24.4|       96.0|       29.59|           1.8|          West|           11.5|              0.0|       Light Snow|  false|false|   false|   false|   false|  false|  false|     false|  false|false|          false|         false|       false|           Day|           Day|              Day|                  Day|\n",
      "|A-3412660|Source1|       2|2016-02-08 17:30:18|2016-02-08 23:30:18|39.582242|        -83.677814|        39.603013|-83.63731899999998|               2.59|Between OH-72/Exi...|         I-71 N|  Jamestown|    Greene|   OH|  45335|     US|US/Eastern|        KSGH|2016-02-08 17:28:00|          33.8|         28.6|       93.0|       29.64|           1.0|          West|            5.8|             0.01|       Light Snow|  false|false|   false|   false|   false|  false|  false|     false|  false|false|          false|         false|       false|           Day|           Day|              Day|                  Day|\n",
      "|A-3412665|Source1|       3|2016-02-08 20:13:22|2016-02-09 02:13:22| 40.02664|          -82.9944|         40.01228|         -82.99218|              0.999|Between Weber Rd/...|    North Fwy S|   Columbus|  Franklin|   OH|  43224|     US|US/Eastern|        KCMH|2016-02-08 20:12:00|          33.8|         27.0|      100.0|       29.63|           1.0|          West|            8.1|              0.0|       Light Snow|  false|false|   false|   false|   false|  false|  false|     false|  false|false|          false|         false|       false|         Night|         Night|            Night|                Night|\n",
      "|A-3412667|Source1|       2|2016-02-08 21:10:10|2016-02-09 03:10:10| 40.99613|         -85.26613|         40.98982|         -85.26986|              0.477|At Fort Wayne - A...|        US-33 S|    Roanoke|     Allen|   IN|  46783|     US|US/Eastern|        KFWA|2016-02-08 20:54:00|          28.0|         16.1|       88.0|       29.71|           8.0|          West|           16.1|              0.0|       Light Snow|  false|false|   false|   false|   false|  false|  false|     false|  false|false|          false|         false|       false|         Night|         Night|            Night|                Night|\n",
      "|A-3412668|Source1|       3|2016-02-08 21:30:31|2016-02-09 03:30:31|  39.0381|-84.59243000000002|         39.03475|         -84.60007|              0.471|At I-275/Exit 185...|         I-75 S|Ft Mitchell|    Kenton|   KY|  41017|     US|US/Eastern|        KCVG|2016-02-08 21:15:00|          26.6|         15.2|       80.0|       29.73|           3.0|          West|           13.8|              0.0|       Light Snow|  false|false|   false|   false|   false|  false|  false|     false|  false|false|          false|         false|       false|         Night|         Night|            Night|                Night|\n",
      "|A-3412669|Source1|       2|2016-02-09 05:54:01|2016-02-09 11:54:01| 40.03386|         -82.99601|         40.02246|         -82.99515|              0.789|Between Broadway/...|    North Fwy N|   Columbus|  Franklin|   OH|  43224|     US|US/Eastern|        KCMH|2016-02-09 05:51:00|          25.0|         15.5|       88.0|       29.65|           1.0|            SW|            9.2|             0.02|       Light Snow|  false|false|   false|   false|   false|  false|  false|     false|  false|false|          false|         false|       false|         Night|         Night|            Night|                Night|\n",
      "|A-3412670|Source1|       2|2016-02-09 06:10:59|2016-02-09 12:10:59| 39.85798|         -84.28181|         39.86441|         -84.21554|              3.543|Between OH-48/Exi...|         I-70 E|     Dayton|Montgomery|   OH|  45415|     US|US/Eastern|        KDAY|2016-02-09 06:03:00|          23.0|         10.1|       88.0|       29.66|           2.0|          West|           15.0|              0.0|       Light Snow|  false|false|   false|   false|   false|  false|  false|     false|  false|false|          false|         false|       false|         Night|         Night|            Night|                  Day|\n",
      "|A-3412671|Source1|       2|2016-02-09 06:46:32|2016-02-09 12:46:32| 39.15267|          -84.5395|         39.14745|         -84.53923|              0.361|At I-74/US-52/US-...|         I-75 S| Cincinnati|  Hamilton|   OH|  45223|     US|US/Eastern|        KLUK|2016-02-09 06:53:00|          21.0|          9.3|       88.0|       29.78|           1.5|           WSW|           11.5|             0.01|       Light Snow|  false|false|   false|   false|   false|  false|  false|     false|  false|false|          false|         false|       false|         Night|         Night|              Day|                  Day|\n",
      "|A-3412675|Source1|       3|2016-02-09 07:44:49|2016-02-09 13:44:49| 39.58595|         -85.82518|         39.58444|         -85.82301|              0.156|At Fairland Rd/40...|       US-421 S|Shelbyville|    Shelby|   IN|  46176|     US|US/Eastern|        KGEZ|2016-02-09 07:41:00|          21.9|          9.8|       82.0|       29.75|           1.5|          West|           12.7|              0.0|       Light Snow|  false|false|   false|   false|   false|  false|  false|     false|  false|false|          false|         false|       false|           Day|           Day|              Day|                  Day|\n",
      "|A-3412677|Source1|       3|2016-02-09 07:48:40|2016-02-09 13:48:40| 39.45132|         -85.62516|39.36277000000001|         -85.51655|              8.429|Between US-421/Ex...|       US-421 S| Saint Paul|   Decatur|   IN|  47272|     US|US/Eastern|        KGEZ|2016-02-09 07:48:00|          21.2|          8.9|       86.0|       29.75|           3.0|          West|           12.7|              0.0|       Light Snow|  false|false|   false|   false|   false|  false|  false|     false|  false|false|          false|         false|       false|           Day|           Day|              Day|                  Day|\n",
      "|A-3412678|Source1|       2|2016-02-09 08:00:16|2016-02-09 14:00:16| 39.75067|         -84.14148|         39.74883|-84.13401999999998|              0.416|At Smithville Rd ...|        US-35 E|     Dayton|Montgomery|   OH|  45410|     US|US/Eastern|        KFFO|2016-02-09 07:58:00|          22.5|         12.4|       90.0|       29.73|           1.2|            SW|            9.2|              0.0|       Light Snow|  false|false|   false|   false|   false|  false|  false|     false|  false|false|          false|         false|       false|           Day|           Day|              Day|                  Day|\n",
      "|A-3412679|Source1|       3|2016-02-09 08:02:55|2016-02-09 14:02:55|  39.2675|         -81.49929|         39.26867|         -81.49909|0.08199999999999999|At US-50/Exit 176...|        US-50 E|Parkersburg|      Wood|   WV|  26104|     US|US/Eastern|        KPKB|2016-02-09 07:53:00|          24.1|         13.7|       88.0|       29.72|           1.0|           WSW|           10.4|             0.02|       Light Snow|  false|false|   false|   false|   false|  false|  false|     false|  false|false|          false|         false|       false|           Day|           Day|              Day|                  Day|\n",
      "|A-3412684|Source1|       2|2016-02-09 11:28:49|2016-02-09 17:28:49| 40.52225|         -80.06666|          40.5283|-80.07188000000002|                0.5|At Camp Horne Rd/...|        I-279 N| Pittsburgh| Allegheny|   PA|  15237|     US|US/Eastern|        KPIT|2016-02-09 11:12:00|          30.0|         20.0|       88.0|       29.56|           1.5|          West|           12.7|              0.0|       Light Snow|  false|false|   false|   false|   false|  false|  false|     false|  false|false|          false|         false|       false|           Day|           Day|              Day|                  Day|\n",
      "|A-3412685|Source1|       2|2016-02-09 12:31:08|2016-02-09 18:31:08|40.487814|        -80.009439|         40.48614|        -80.009008|              0.118|At Venture St/Exi...|    US-19 Trk S| Pittsburgh| Allegheny|   PA|  15214|     US|US/Eastern|        KAGC|2016-02-09 12:53:00|          28.9|         18.2|       82.0|       29.61|           1.0|            SW|           13.8|              0.0|       Light Snow|  false|false|   false|   false|   false|  false|  false|     false|  false|false|          false|         false|       false|           Day|           Day|              Day|                  Day|\n",
      "|A-3412687|Source1|       2|2016-02-09 17:12:40|2016-02-09 23:12:40| 41.47461|-81.71181999999997|         41.47023|-81.74188000000002|              1.585|Between 41st St/E...|Northwest Fwy W|  Cleveland|  Cuyahoga|   OH|  44113|     US|US/Eastern|        KBKL|2016-02-09 17:13:00|          30.9|         18.7|       92.0|       29.62|           1.0|          West|           19.6|              0.0|       Light Snow|  false|false|   false|   false|   false|  false|  false|     false|  false|false|          false|         false|       false|           Day|           Day|              Day|                  Day|\n",
      "+---------+-------+--------+-------------------+-------------------+---------+------------------+-----------------+------------------+-------------------+--------------------+---------------+-----------+----------+-----+-------+-------+----------+------------+-------------------+--------------+-------------+-----------+------------+--------------+--------------+---------------+-----------------+-----------------+-------+-----+--------+--------+--------+-------+-------+----------+-------+-----+---------------+--------------+------------+--------------+--------------+-----------------+---------------------+\n",
      "only showing top 20 rows\n",
      "\n"
     ]
    },
    {
     "name": "stderr",
     "output_type": "stream",
     "text": [
      "                                                                                \r"
     ]
    }
   ],
   "source": [
    "# Drop rows with any null values\n",
    "df_cleaned = df.dropna()\n",
    "\n",
    "# Show the cleaned DataFrame content\n",
    "df_cleaned.show()"
   ]
  },
  {
   "cell_type": "code",
   "execution_count": 10,
   "id": "3f4282bf-dbda-434f-bebe-4cb2a21c9119",
   "metadata": {},
   "outputs": [
    {
     "name": "stderr",
     "output_type": "stream",
     "text": [
      "[Stage 15:===================================================>    (21 + 2) / 23]\r"
     ]
    },
    {
     "name": "stdout",
     "output_type": "stream",
     "text": [
      "The number of rows in the cleaned DataFrame is: 3554549\n"
     ]
    },
    {
     "name": "stderr",
     "output_type": "stream",
     "text": [
      "                                                                                \r"
     ]
    }
   ],
   "source": [
    "# Count the number of rows in the DataFrame\n",
    "row_count = df_cleaned.count()\n",
    "\n",
    "# Print the number of rows\n",
    "print(f\"The number of rows in the cleaned DataFrame is: {row_count}\")"
   ]
  },
  {
   "cell_type": "code",
   "execution_count": 11,
   "id": "3e99b59f-1b50-4431-b83b-f08de18a5bd8",
   "metadata": {},
   "outputs": [
    {
     "name": "stderr",
     "output_type": "stream",
     "text": [
      "[Stage 18:>                                                         (0 + 1) / 1]\r"
     ]
    },
    {
     "name": "stdout",
     "output_type": "stream",
     "text": [
      "+--------+-------+--------+-------------------+-------------------+------------------+------------------+-------+-------+------------+--------------------+--------------------+---------------+------------+-----+----------+-------+----------+------------+-------------------+--------------+-------------+-----------+------------+--------------+--------------+---------------+-----------------+--------------------+-------+-----+--------+--------+--------+-------+-------+----------+-------+-----+---------------+--------------+------------+--------------+--------------+-----------------+---------------------+\n",
      "|      ID| Source|Severity|         Start_Time|           End_Time|         Start_Lat|         Start_Lng|End_Lat|End_Lng|Distance(mi)|         Description|              Street|           City|      County|State|   Zipcode|Country|  Timezone|Airport_Code|  Weather_Timestamp|Temperature(F)|Wind_Chill(F)|Humidity(%)|Pressure(in)|Visibility(mi)|Wind_Direction|Wind_Speed(mph)|Precipitation(in)|   Weather_Condition|Amenity| Bump|Crossing|Give_Way|Junction|No_Exit|Railway|Roundabout|Station| Stop|Traffic_Calming|Traffic_Signal|Turning_Loop|Sunrise_Sunset|Civil_Twilight|Nautical_Twilight|Astronomical_Twilight|\n",
      "+--------+-------+--------+-------------------+-------------------+------------------+------------------+-------+-------+------------+--------------------+--------------------+---------------+------------+-----+----------+-------+----------+------------+-------------------+--------------+-------------+-----------+------------+--------------+--------------+---------------+-----------------+--------------------+-------+-----+--------+--------+--------+-------+-------+----------+-------+-----+---------------+--------------+------------+--------------+--------------+-----------------+---------------------+\n",
      "|A-116062|Source2|       3|2016-11-30 15:36:03|2016-11-30 17:09:22|         27.981367|        -82.326561|   NULL|   NULL|        0.01|Queueing traffic ...|E Dr Martin Luthe...|          Tampa|Hillsborough|   FL|     33610|     US|US/Eastern|        KVDF|2016-11-30 15:35:00|          80.6|         NULL|       70.0|       29.94|          10.0|           SSW|            5.8|             NULL|            Overcast|  false|false|   false|   false|   false|  false|  false|     false|  false|false|          false|         false|       false|           Day|           Day|              Day|                  Day|\n",
      "|A-116063|Source2|       3|2016-11-30 16:25:35|2016-11-30 17:12:25|         27.981367|        -82.326561|   NULL|   NULL|        0.01|Queueing traffic ...|E Dr Martin Luthe...|          Tampa|Hillsborough|   FL|     33610|     US|US/Eastern|        KVDF|2016-11-30 16:35:00|          80.6|         NULL|       65.0|       29.94|          10.0|           WSW|            6.9|             NULL|       Mostly Cloudy|  false|false|   false|   false|   false|  false|  false|     false|  false|false|          false|         false|       false|           Day|           Day|              Day|                  Day|\n",
      "|A-116064|Source2|       2|2016-11-30 16:40:31|2016-11-30 17:10:19|         25.627699|-80.37445100000002|   NULL|   NULL|        0.01|Accident on FL-99...|         SW 152nd St|          Miami|  Miami-Dade|   FL|33157-1147|     US|US/Eastern|        KTMB|2016-11-30 16:53:00|          80.1|         NULL|       71.0|       29.96|          10.0|            SE|            9.2|             NULL|       Mostly Cloudy|  false|false|    true|   false|   false|  false|  false|     false|  false| true|          false|          true|       false|           Day|           Day|              Day|                  Day|\n",
      "|A-116065|Source2|       3|2016-11-30 16:34:57|2016-11-30 17:04:27|         25.899435|         -80.34668|   NULL|   NULL|        0.01|Accident on I-75 ...|              I-75 N|        Hialeah|  Miami-Dade|   FL|     33018|     US|US/Eastern|        KOPF|2016-11-30 16:53:00|          80.1|         NULL|       69.0|       29.97|          10.0|           SSE|           11.5|             NULL|       Mostly Cloudy|  false|false|   false|   false|   false|  false|  false|     false|  false|false|          false|         false|       false|           Day|           Day|              Day|                  Day|\n",
      "|A-116066|Source2|       2|2016-11-30 16:38:41|2016-11-30 17:08:23|26.272926000000002|        -80.296432|   NULL|   NULL|        0.01|Right lane closed...|       Sawgrass Expy|  Pompano Beach|     Broward|   FL|     33065|     US|US/Eastern|        KFXE|2016-11-30 16:53:00|          79.0|         NULL|       69.0|       29.98|          10.0|            SE|           10.4|             NULL|    Scattered Clouds|  false|false|   false|   false|   false|  false|  false|     false|  false|false|          false|         false|       false|           Day|           Day|              Day|                  Day|\n",
      "|A-116067|Source2|       2|2016-11-30 15:16:19|2016-11-30 17:01:03|         25.963093|        -80.185677|   NULL|   NULL|        0.01|Left turn lane bl...|      San Simeon Way|          Miami|  Miami-Dade|   FL|     33179|     US|US/Eastern|        KHWO|2016-11-30 14:53:00|          82.0|         NULL|       62.0|       29.95|          10.0|            SE|           11.5|             NULL|    Scattered Clouds|  false|false|   false|   false|   false|  false|  false|     false|  false|false|          false|          true|       false|           Day|           Day|              Day|                  Day|\n",
      "|A-116068|Source2|       2|2016-11-30 16:55:31|2016-11-30 17:25:11|         25.841373|        -80.322037|   NULL|   NULL|        0.01|Queueing traffic ...|     Palmetto Expy N|          Miami|  Miami-Dade|   FL|     33166|     US|US/Eastern|        KMIA|2016-11-30 16:53:00|          78.1|         NULL|       76.0|       29.97|          10.0|            SE|           13.8|             NULL|       Mostly Cloudy|  false|false|   false|   false|   false|  false|  false|     false|  false|false|          false|         false|       false|           Day|           Day|              Day|                  Day|\n",
      "|A-116069|Source2|       3|2016-11-30 16:57:23|2016-11-30 17:27:10|         25.812199|-80.20585600000003|   NULL|   NULL|        0.01|Accident on I-95 ...|              I-95 N|          Miami|  Miami-Dade|   FL|     33127|     US|US/Eastern|        KMIA|2016-11-30 16:53:00|          78.1|         NULL|       76.0|       29.97|          10.0|            SE|           13.8|             NULL|       Mostly Cloudy|  false|false|   false|   false|   false|  false|  false|     false|  false|false|          false|         false|       false|           Day|           Day|              Day|                  Day|\n",
      "|A-116070|Source2|       2|2016-11-30 17:14:23|2016-11-30 17:44:09|         27.971186|-82.42858100000002|   NULL|   NULL|         0.0|Partially blocked...|           N 28th St|          Tampa|Hillsborough|   FL|     33605|     US|US/Eastern|        KTPF|2016-11-30 17:15:00|          78.8|         NULL|       78.0|       29.95|          10.0|            SW|            9.2|             NULL|               Clear|  false|false|   false|   false|   false|  false|  false|     false|  false|false|          false|         false|       false|           Day|           Day|              Day|                  Day|\n",
      "|A-116071|Source2|       2|2016-11-30 17:15:52|2016-11-30 17:45:36|25.781235000000002|        -80.337181|   NULL|   NULL|        0.01|Queueing traffic ...|      Dolphin Expy E|          Miami|  Miami-Dade|   FL|     33172|     US|US/Eastern|        KMIA|2016-11-30 16:53:00|          78.1|         NULL|       76.0|       29.97|          10.0|            SE|           13.8|             NULL|       Mostly Cloudy|  false|false|   false|   false|   false|  false|  false|     false|  false|false|          false|         false|       false|           Day|           Day|              Day|                  Day|\n",
      "|A-116072|Source2|       2|2016-11-30 17:23:25|2016-11-30 17:53:14|28.493716999999997|        -81.483452|   NULL|   NULL|        0.01|Accident on Hiawa...|Conroy Windermere Rd|        Orlando|      Orange|   FL|     32835|     US|US/Eastern|        KORL|2016-11-30 16:53:00|          75.9|         NULL|       74.0|       29.96|          10.0|           SSW|           12.7|              0.0|            Overcast|  false|false|    true|   false|   false|  false|  false|     false|  false|false|          false|          true|       false|           Day|           Day|              Day|                  Day|\n",
      "|A-116073|Source2|       3|2016-11-30 17:18:56|2016-11-30 17:48:31|         29.475943|-81.18363199999997|   NULL|   NULL|        0.01|Left 2 lane close...|       E Highway 100|     Palm Coast|     Flagler|   FL|     32137|     US|US/Eastern|        KXFL|2016-11-30 16:50:00|          NULL|         NULL|       NULL|        29.9|          10.0|           WSW|            9.0|             NULL|Showers in the Vi...|  false|false|   false|   false|   false|  false|  false|     false|  false|false|          false|          true|       false|           Day|           Day|              Day|                  Day|\n",
      "|A-116074|Source2|       2|2016-11-30 17:19:27|2016-11-30 17:49:06|25.772266000000002|        -80.151573|   NULL|   NULL|        0.01|2 left lane close...|      MacArthur Cswy|    Miami Beach|  Miami-Dade|   FL|     33139|     US|US/Eastern|        KMIA|2016-11-30 16:53:00|          78.1|         NULL|       76.0|       29.97|          10.0|            SE|           13.8|             NULL|       Mostly Cloudy|  false|false|    true|   false|   false|  false|  false|     false|  false|false|          false|          true|       false|           Day|           Day|              Day|                  Day|\n",
      "|A-116075|Source2|       2|2016-11-30 17:28:23|2016-11-30 17:58:08|         25.867414|        -80.340164|   NULL|   NULL|        0.01|Accident on US-27...|         NW 103rd St|        Hialeah|  Miami-Dade|   FL|     33018|     US|US/Eastern|        KOPF|2016-11-30 17:53:00|          79.0|         NULL|       72.0|       29.99|          10.0|           SSE|           11.5|              0.0|       Mostly Cloudy|  false|false|   false|   false|   false|  false|  false|     false|  false|false|          false|         false|       false|           Day|           Day|              Day|                  Day|\n",
      "|A-116076|Source2|       2|2016-11-30 17:28:56|2016-11-30 17:58:41|         25.853428|        -80.241989|   NULL|   NULL|         0.0|Accident on 87th ...|          NW 87th St|          Miami|  Miami-Dade|   FL|     33147|     US|US/Eastern|        KOPF|2016-11-30 17:53:00|          79.0|         NULL|       72.0|       29.99|          10.0|           SSE|           11.5|              0.0|       Mostly Cloudy|  false|false|   false|   false|   false|  false|  false|     false|  false|false|          false|          true|       false|           Day|           Day|              Day|                  Day|\n",
      "|A-116077|Source2|       3|2016-11-30 17:31:49|2016-11-30 18:01:31|         26.655329|        -80.069389|   NULL|   NULL|        0.01|Lane closed on ex...|              I-95 N|West Palm Beach|  Palm Beach|   FL|     33405|     US|US/Eastern|        KPBI|2016-11-30 17:53:00|          77.0|         NULL|       71.0|       29.99|          10.0|           SSE|            8.1|             NULL|    Scattered Clouds|  false|false|   false|   false|   false|  false|  false|     false|  false|false|          false|         false|       false|         Night|           Day|              Day|                  Day|\n",
      "|A-116078|Source2|       2|2016-11-30 17:52:58|2016-11-30 18:22:49|27.938909999999996|-82.78739200000003|   NULL|   NULL|        0.01|Accident on Belle...|         Belleair Rd|     Clearwater|    Pinellas|   FL|     33756|     US|US/Eastern|        KPIE|2016-11-30 17:53:00|          75.0|         NULL|       82.0|       29.95|          10.0|         South|           11.5|             NULL|    Scattered Clouds|  false|false|   false|   false|   false|  false|  false|     false|  false|false|          false|          true|       false|         Night|           Day|              Day|                  Day|\n",
      "|A-116079|Source2|       3|2016-11-30 17:50:11|2016-11-30 18:19:53|         26.609005|        -80.068565|   NULL|   NULL|        0.01|2 right lane clos...|           6th Ave S|     Lake Worth|  Palm Beach|   FL|     33460|     US|US/Eastern|        KPBI|2016-11-30 17:53:00|          77.0|         NULL|       71.0|       29.99|          10.0|           SSE|            8.1|             NULL|    Scattered Clouds|  false|false|   false|   false|   false|  false|  false|     false|  false|false|          false|          true|       false|         Night|           Day|              Day|                  Day|\n",
      "|A-116080|Source2|       3|2016-11-30 17:55:34|2016-11-30 18:25:34|         27.491219|        -82.472359|   NULL|   NULL|        0.01|Accident on I-75 ...|              I-75 S|      Bradenton|     Manatee|   FL|     34208|     US|US/Eastern|        KSRQ|2016-11-30 17:53:00|          75.0|         NULL|       82.0|       29.94|          10.0|         South|           11.5|             NULL|               Clear|  false|false|   false|   false|   false|  false|  false|     false|  false|false|          false|         false|       false|         Night|           Day|              Day|                  Day|\n",
      "|A-116081|Source2|       3|2016-11-30 17:57:30|2016-11-30 18:27:11|         25.898338|-80.20976999999998|   NULL|   NULL|        0.01|Queueing traffic ...|         NW 135th St|          Miami|  Miami-Dade|   FL|     33168|     US|US/Eastern|        KOPF|2016-11-30 17:53:00|          79.0|         NULL|       72.0|       29.99|          10.0|           SSE|           11.5|              0.0|       Mostly Cloudy|  false|false|   false|   false|   false|  false|  false|     false|  false|false|          false|         false|       false|         Night|         Night|              Day|                  Day|\n",
      "+--------+-------+--------+-------------------+-------------------+------------------+------------------+-------+-------+------------+--------------------+--------------------+---------------+------------+-----+----------+-------+----------+------------+-------------------+--------------+-------------+-----------+------------+--------------+--------------+---------------+-----------------+--------------------+-------+-----+--------+--------+--------+-------+-------+----------+-------+-----+---------------+--------------+------------+--------------+--------------+-----------------+---------------------+\n",
      "only showing top 20 rows\n",
      "\n"
     ]
    },
    {
     "name": "stderr",
     "output_type": "stream",
     "text": [
      "                                                                                \r"
     ]
    }
   ],
   "source": [
    "# Filter the DataFrame to keep only rows where Country is 'US' and State is 'FL'\n",
    "df_cleaned = df.filter((df.Country == 'US') & (df.State == 'FL'))\n",
    "\n",
    "# Show the cleaned DataFrame content\n",
    "df_cleaned.show()"
   ]
  },
  {
   "cell_type": "code",
   "execution_count": 12,
   "id": "567d9bb8-7888-40df-82cf-87bac8e52707",
   "metadata": {},
   "outputs": [
    {
     "name": "stderr",
     "output_type": "stream",
     "text": [
      "[Stage 19:=====================================================>  (22 + 1) / 23]\r"
     ]
    },
    {
     "name": "stdout",
     "output_type": "stream",
     "text": [
      "The number of rows in the cleaned DataFrame is: 880192\n"
     ]
    },
    {
     "name": "stderr",
     "output_type": "stream",
     "text": [
      "                                                                                \r"
     ]
    }
   ],
   "source": [
    "# Count the number of rows in the DataFrame\n",
    "row_count = df_cleaned.count()\n",
    "\n",
    "# Print the number of rows\n",
    "print(f\"The number of rows in the cleaned DataFrame is: {row_count}\")"
   ]
  },
  {
   "cell_type": "code",
   "execution_count": 13,
   "id": "de1e43c9-2622-4515-8395-dd6b6cea2929",
   "metadata": {},
   "outputs": [
    {
     "name": "stderr",
     "output_type": "stream",
     "text": [
      "[Stage 22:=====================================================>  (22 + 1) / 23]\r"
     ]
    },
    {
     "name": "stdout",
     "output_type": "stream",
     "text": [
      "+----------+------+\n",
      "|    County| count|\n",
      "+----------+------+\n",
      "|Miami-Dade|251601|\n",
      "|    Orange|124321|\n",
      "|   Broward| 53865|\n",
      "+----------+------+\n",
      "\n"
     ]
    },
    {
     "name": "stderr",
     "output_type": "stream",
     "text": [
      "                                                                                \r"
     ]
    }
   ],
   "source": [
    "from pyspark.sql import functions as F\n",
    "\n",
    "# Filter the DataFrame for rows where State is 'FL'\n",
    "df_fl = df.filter(df.State == 'FL')\n",
    "\n",
    "# Group by 'County', count occurrences, and sort by count in descending order\n",
    "top_counties = df_fl.groupBy(\"County\").count() \\\n",
    "    .orderBy(F.desc(\"count\")) \\\n",
    "    .limit(3)\n",
    "\n",
    "# Show the top 3 most mentioned counties\n",
    "top_counties.show()"
   ]
  },
  {
   "cell_type": "code",
   "execution_count": 14,
   "id": "c13be57b-3f13-4b4d-adb9-b7508584e9db",
   "metadata": {},
   "outputs": [
    {
     "name": "stdout",
     "output_type": "stream",
     "text": [
      "+-------+-------+--------+-------------------+-------------------+------------------+-------------------+-------+-------+------------+--------------------+---------------+-------------+------+-----+----------+-------+----------+------------+-------------------+--------------+-------------+-----------+------------+--------------+--------------+---------------+-----------------+-----------------+-------+-----+--------+--------+--------+-------+-------+----------+-------+-----+---------------+--------------+------------+--------------+--------------+-----------------+---------------------+\n",
      "|     ID| Source|Severity|         Start_Time|           End_Time|         Start_Lat|          Start_Lng|End_Lat|End_Lng|Distance(mi)|         Description|         Street|         City|County|State|   Zipcode|Country|  Timezone|Airport_Code|  Weather_Timestamp|Temperature(F)|Wind_Chill(F)|Humidity(%)|Pressure(in)|Visibility(mi)|Wind_Direction|Wind_Speed(mph)|Precipitation(in)|Weather_Condition|Amenity| Bump|Crossing|Give_Way|Junction|No_Exit|Railway|Roundabout|Station| Stop|Traffic_Calming|Traffic_Signal|Turning_Loop|Sunrise_Sunset|Civil_Twilight|Nautical_Twilight|Astronomical_Twilight|\n",
      "+-------+-------+--------+-------------------+-------------------+------------------+-------------------+-------+-------+------------+--------------------+---------------+-------------+------+-----+----------+-------+----------+------------+-------------------+--------------+-------------+-----------+------------+--------------+--------------+---------------+-----------------+-----------------+-------+-----+--------+--------+--------+-------+-------+----------+-------+-----+---------------+--------------+------------+--------------+--------------+-----------------+---------------------+\n",
      "|A-42872|Source2|       2|2016-06-21 09:31:44|2016-06-21 11:00:00|         33.797401|-117.87716699999999|   NULL|   NULL|         0.0|Accident now on t...|        CA-57 N|       Orange|Orange|   CA|     92868|     US|US/Pacific|        KSNA|2016-06-21 09:53:00|          77.0|         NULL|       58.0|       29.96|          10.0|            SW|           11.5|             NULL| Scattered Clouds|  false|false|   false|   false|   false|  false|  false|     false|  false|false|          false|         false|       false|           Day|           Day|              Day|                  Day|\n",
      "|A-42873|Source2|       2|2016-06-21 10:39:46|2016-06-21 11:20:00|         33.759735|        -117.834053|   NULL|   NULL|         0.0|Accident on Tusti...|      E 17th St|    Santa Ana|Orange|   CA|92705-8609|     US|US/Pacific|        KSNA|2016-06-21 10:53:00|          78.1|         NULL|       62.0|       29.96|          10.0|         South|           16.1|             NULL|    Mostly Cloudy|  false|false|   false|   false|   false|  false|  false|     false|  false|false|          false|          true|       false|           Day|           Day|              Day|                  Day|\n",
      "|A-42901|Source2|       2|2016-06-21 11:34:18|2016-06-21 12:04:18|         33.779545|-117.85203600000001|   NULL|   NULL|         0.0|Accident on River...|    E River Ave|       Orange|Orange|   CA|92866-3006|     US|US/Pacific|        KSNA|2016-06-21 11:53:00|          79.0|         NULL|       56.0|       29.96|          10.0|            SW|           16.1|             NULL|    Mostly Cloudy|  false|false|   false|   false|   false|  false|  false|     false|  false|false|          false|         false|       false|           Day|           Day|              Day|                  Day|\n",
      "|A-42902|Source2|       2|2016-06-21 11:34:51|2016-06-21 12:04:51|         33.849445|-117.83486200000002|   NULL|   NULL|         0.0|Accident on CA-91...|        CA-91 W|      Anaheim|Orange|   CA|     92807|     US|US/Pacific|        KFUL|2016-06-21 11:53:00|          84.9|         NULL|       44.0|       29.95|          10.0|         South|            8.1|             NULL|            Clear|  false|false|   false|   false|   false|  false|  false|     false|  false|false|          false|         false|       false|           Day|           Day|              Day|                  Day|\n",
      "|A-42903|Source2|       3|2016-06-21 11:33:12|2016-06-21 12:03:12|         33.730778|        -117.811539|   NULL|   NULL|         0.0|Left lane blocked...|Santa Ana Fwy S|       Tustin|Orange|   CA|     92780|     US|US/Pacific|        KSNA|2016-06-21 11:53:00|          79.0|         NULL|       56.0|       29.96|          10.0|            SW|           16.1|             NULL|    Mostly Cloudy|  false|false|   false|   false|   false|  false|  false|     false|  false|false|          false|         false|       false|           Day|           Day|              Day|                  Day|\n",
      "|A-42908|Source2|       2|2016-06-21 11:56:25|2016-06-21 12:33:00|         33.856064|-118.01509899999999|   NULL|   NULL|         0.0|Accident on CA-91...|  Artesia Fwy W|   Buena Park|Orange|   CA|     90620|     US|US/Pacific|        KFUL|2016-06-21 11:53:00|          84.9|         NULL|       44.0|       29.95|          10.0|         South|            8.1|             NULL|            Clear|  false|false|   false|   false|   false|  false|  false|     false|  false|false|          false|         false|       false|           Day|           Day|              Day|                  Day|\n",
      "|A-42909|Source2|       3|2016-06-21 11:55:22|2016-06-21 12:30:00|         33.733658|        -117.815247|   NULL|   NULL|         0.0|#1 lane blocked a...|   Red Hill Ave|       Tustin|Orange|   CA|     92780|     US|US/Pacific|        KSNA|2016-06-21 11:53:00|          79.0|         NULL|       56.0|       29.96|          10.0|            SW|           16.1|             NULL|    Mostly Cloudy|  false|false|   false|   false|   false|  false|  false|     false|  false|false|          false|          true|       false|           Day|           Day|              Day|                  Day|\n",
      "|A-42935|Source2|       2|2016-06-21 12:33:37|2016-06-21 13:12:00|         33.854214|        -117.941666|   NULL|   NULL|         0.0|Accident on CA-91...|      Euclid St|      Anaheim|Orange|   CA|     92801|     US|US/Pacific|        KFUL|2016-06-21 12:53:00|          84.0|         NULL|       43.0|       29.95|          10.0|         South|           10.4|             NULL|            Clear|  false|false|   false|   false|   false|  false|  false|     false|  false|false|          false|         false|       false|           Day|           Day|              Day|                  Day|\n",
      "|A-42936|Source2|       3|2016-06-21 12:32:04|2016-06-21 13:09:00|         33.778831|        -117.876724|   NULL|   NULL|         0.0|Right lane blocke...|Santa Ana Fwy S|    Santa Ana|Orange|   CA|     92706|     US|US/Pacific|        KSNA|2016-06-21 12:53:00|          78.1|         NULL|       58.0|       29.96|          10.0|           SSW|           17.3|             NULL|    Mostly Cloudy|  false|false|   false|   false|    true|  false|  false|     false|  false|false|          false|         false|       false|           Day|           Day|              Day|                  Day|\n",
      "|A-42937|Source2|       2|2016-06-21 12:32:55|2016-06-21 13:15:00|         33.843224|        -117.876198|   NULL|   NULL|         0.0|Right hand should...|        CA-57 S|      Anaheim|Orange|   CA|     92806|     US|US/Pacific|        KFUL|2016-06-21 12:53:00|          84.0|         NULL|       43.0|       29.95|          10.0|         South|           10.4|             NULL|            Clear|  false|false|   false|   false|    true|  false|  false|     false|  false|false|          false|         false|       false|           Day|           Day|              Day|                  Day|\n",
      "|A-42938|Source2|       3|2016-06-21 12:34:22|2016-06-21 13:14:00|33.669121000000004|        -117.822075|   NULL|   NULL|         0.0|Accident on I-405...|        I-405 S|       Irvine|Orange|   CA|     92612|     US|US/Pacific|        KSNA|2016-06-21 12:53:00|          78.1|         NULL|       58.0|       29.96|          10.0|           SSW|           17.3|             NULL|    Mostly Cloudy|  false|false|   false|   false|   false|  false|  false|     false|  false|false|          false|         false|       false|           Day|           Day|              Day|                  Day|\n",
      "|A-43009|Source2|       2|2016-06-21 16:00:13|2016-06-21 16:45:13|         33.910786|        -117.880096|   NULL|   NULL|         0.0|Accident on CA-90...|  Associated Rd|    Fullerton|Orange|   CA|92835-2378|     US|US/Pacific|        KFUL|2016-06-21 15:53:00|          84.0|         NULL|       40.0|       29.93|          10.0|         South|            9.2|             NULL|            Clear|  false|false|   false|   false|   false|  false|  false|     false|  false|false|          false|          true|       false|           Day|           Day|              Day|                  Day|\n",
      "|A-43015|Source2|       3|2016-06-21 16:15:05|2016-06-21 17:00:05|33.748051000000004|        -117.842995|   NULL|   NULL|         0.0|Right hand should...|          I-5 N|    Santa Ana|Orange|   CA|     92705|     US|US/Pacific|        KSNA|2016-06-21 15:53:00|          75.9|         NULL|       62.0|       29.94|          10.0|            SW|            9.2|             NULL|    Mostly Cloudy|  false|false|   false|   false|   false|  false|  false|     false|  false|false|          false|          true|       false|           Day|           Day|              Day|                  Day|\n",
      "|A-43037|Source2|       3|2016-06-21 17:25:45|2016-06-21 18:10:45|          33.64468|-117.73496200000001|   NULL|   NULL|         0.0|Right hand should...|          I-5 N|       Irvine|Orange|   CA|     92618|     US|US/Pacific|        KSNA|2016-06-21 17:53:00|          80.1|         NULL|       45.0|       29.92|          10.0|           SSW|            9.2|             NULL|    Mostly Cloudy|  false|false|   false|   false|   false|  false|  false|     false|  false|false|          false|         false|       false|           Day|           Day|              Day|                  Day|\n",
      "|A-43079|Source2|       2|2016-06-21 18:44:58|2016-06-21 19:29:58|         33.938869|-117.87683899999999|   NULL|   NULL|         0.0|Shoulder blocked ...|        CA-57 N|         Brea|Orange|   CA|     92821|     US|US/Pacific|        KFUL|2016-06-21 18:53:00|          79.0|         NULL|       47.0|       29.92|          10.0|         North|           NULL|             NULL|            Clear|  false|false|   false|   false|   false|  false|  false|     false|  false|false|          false|         false|       false|           Day|           Day|              Day|                  Day|\n",
      "|A-43090|Source2|       3|2016-06-21 19:31:20|2016-06-21 20:16:20|         33.759808|-118.02471200000001|   NULL|   NULL|         0.0|Lane blocked on e...|  Springdale St|  Westminster|Orange|   CA|     92683|     US|US/Pacific|        KSLI|2016-06-21 19:58:00|          70.3|         NULL|       76.0|       29.95|          10.0|            SW|            5.8|             NULL|    Partly Cloudy|  false|false|   false|   false|   false|  false|  false|     false|  false|false|          false|          true|       false|           Day|           Day|              Day|                  Day|\n",
      "|A-43091|Source2|       3|2016-06-21 19:30:23|2016-06-21 20:15:23|         33.747051|        -118.007446|   NULL|   NULL|         0.0|Lane blocked on e...|        I-405 N|  Westminster|Orange|   CA|     92683|     US|US/Pacific|        KSLI|2016-06-21 19:58:00|          70.3|         NULL|       76.0|       29.95|          10.0|            SW|            5.8|             NULL|    Partly Cloudy|  false|false|   false|   false|   false|  false|  false|     false|  false|false|          false|         false|       false|           Day|           Day|              Day|                  Day|\n",
      "|A-43105|Source2|       2|2016-06-21 20:00:37|2016-06-21 20:45:37|         33.779064|        -117.878731|   NULL|   NULL|         0.0|Accident on CA-22...|        CA-22 W|       Orange|Orange|   CA|     92868|     US|US/Pacific|        KSNA|2016-06-21 19:53:00|          72.0|         NULL|       66.0|       29.94|          10.0|            SW|            6.9|             NULL| Scattered Clouds|  false|false|   false|   false|   false|  false|  false|     false|  false|false|          false|         false|       false|           Day|           Day|              Day|                  Day|\n",
      "|A-43106|Source2|       2|2016-06-21 19:50:51|2016-06-21 20:50:51|         33.778187|         -117.87043|   NULL|   NULL|         0.0|Accident on CA-22...|        CA-22 E|       Orange|Orange|   CA|     92868|     US|US/Pacific|        KSNA|2016-06-21 19:53:00|          72.0|         NULL|       66.0|       29.94|          10.0|            SW|            6.9|             NULL| Scattered Clouds|  false|false|   false|   false|   false|  false|  false|     false|  false|false|          false|         false|       false|           Day|           Day|              Day|                  Day|\n",
      "|A-43109|Source2|       3|2016-06-21 19:59:32|2016-06-21 20:44:32|33.544230999999996|-117.67327900000001|   NULL|   NULL|         0.0|Shoulder blocked ...|          I-5 N|Mission Viejo|Orange|   CA|     92692|     US|US/Pacific|        KSNA|2016-06-21 19:53:00|          72.0|         NULL|       66.0|       29.94|          10.0|            SW|            6.9|             NULL| Scattered Clouds|  false|false|   false|   false|   false|  false|  false|     false|  false|false|          false|         false|       false|           Day|           Day|              Day|                  Day|\n",
      "+-------+-------+--------+-------------------+-------------------+------------------+-------------------+-------+-------+------------+--------------------+---------------+-------------+------+-----+----------+-------+----------+------------+-------------------+--------------+-------------+-----------+------------+--------------+--------------+---------------+-----------------+-----------------+-------+-----+--------+--------+--------+-------+-------+----------+-------+-----+---------------+--------------+------------+--------------+--------------+-----------------+---------------------+\n",
      "only showing top 20 rows\n",
      "\n"
     ]
    }
   ],
   "source": [
    "# Define the counties to keep\n",
    "counties_to_keep = ['Miami-Dade', 'Orange', 'Broward']\n",
    "\n",
    "# Filter the DataFrame to keep only the rows with specified counties\n",
    "df_cleaned = df.filter(df.County.isin(counties_to_keep))\n",
    "\n",
    "# Show the cleaned DataFrame content\n",
    "df_cleaned.show()"
   ]
  },
  {
   "cell_type": "code",
   "execution_count": 15,
   "id": "05712dec-ffd0-4f77-ac56-04e0e343e036",
   "metadata": {},
   "outputs": [
    {
     "name": "stderr",
     "output_type": "stream",
     "text": [
      "[Stage 26:=====================================================>  (22 + 1) / 23]\r"
     ]
    },
    {
     "name": "stdout",
     "output_type": "stream",
     "text": [
      "The number of rows in the cleaned DataFrame is: 546741\n"
     ]
    },
    {
     "name": "stderr",
     "output_type": "stream",
     "text": [
      "                                                                                \r"
     ]
    }
   ],
   "source": [
    "# Count the number of rows in the DataFrame\n",
    "row_count = df_cleaned.count()\n",
    "\n",
    "# Print the number of rows\n",
    "print(f\"The number of rows in the cleaned DataFrame is: {row_count}\")"
   ]
  },
  {
   "cell_type": "code",
   "execution_count": 16,
   "id": "791c0984-6eb3-421e-9800-37338e49b4f8",
   "metadata": {},
   "outputs": [],
   "source": [
    "# List of columns to drop (all previously mentioned columns)\n",
    "columns_to_drop = [\n",
    "    \"Astronomical_Twilight\",\n",
    "    \"Nautical_Twilight\",\n",
    "    \"Civil_Twilight\",\n",
    "    \"Wind_Direction\",\n",
    "    \"Pressure(in)\",\n",
    "    \"Humidity(%)\",\n",
    "    \"Wind_Chill(F)\",\n",
    "    \"Temperature(F)\",\n",
    "    \"Airport_Code\",\n",
    "     \"Railway\",\n",
    "    \"End_Lng\",\n",
    "    \"End_Lat\",\n",
    "    \"Source\",\n",
    "    \"Description\",\n",
    "    \"Timezone\",\n",
    "    \"Weather_Timestamp\",\n",
    "    \"Amenity\",\n",
    "    \"Bump\",\n",
    "    \"Give_Way\",\n",
    "    \"Roundabout\",\n",
    "    \"Station\",\n",
    "    \"Traffic_Calming\",\n",
    "    \"Turning_Loop\",\n",
    "    \"No_Exit\"  \n",
    "]\n"
   ]
  },
  {
   "cell_type": "code",
   "execution_count": 17,
   "id": "92449f86-87c1-496c-80c9-c1e6d8a6d8c9",
   "metadata": {},
   "outputs": [
    {
     "name": "stdout",
     "output_type": "stream",
     "text": [
      "The columns in the DataFrame are:\n",
      "['ID', 'Source', 'Severity', 'Start_Time', 'End_Time', 'Start_Lat', 'Start_Lng', 'End_Lat', 'End_Lng', 'Distance(mi)', 'Description', 'Street', 'City', 'County', 'State', 'Zipcode', 'Country', 'Timezone', 'Airport_Code', 'Weather_Timestamp', 'Temperature(F)', 'Wind_Chill(F)', 'Humidity(%)', 'Pressure(in)', 'Visibility(mi)', 'Wind_Direction', 'Wind_Speed(mph)', 'Precipitation(in)', 'Weather_Condition', 'Amenity', 'Bump', 'Crossing', 'Give_Way', 'Junction', 'No_Exit', 'Railway', 'Roundabout', 'Station', 'Stop', 'Traffic_Calming', 'Traffic_Signal', 'Turning_Loop', 'Sunrise_Sunset', 'Civil_Twilight', 'Nautical_Twilight', 'Astronomical_Twilight']\n"
     ]
    }
   ],
   "source": [
    "# Show all the column names in the DataFrame\n",
    "column_names = df_cleaned.columns\n",
    "print(\"The columns in the DataFrame are:\")\n",
    "print(column_names)"
   ]
  },
  {
   "cell_type": "code",
   "execution_count": 18,
   "id": "5ee89248-867c-4059-9a55-ef62ad93daec",
   "metadata": {},
   "outputs": [
    {
     "name": "stdout",
     "output_type": "stream",
     "text": [
      "Columns in df (original DataFrame):\n",
      "['ID', 'Source', 'Severity', 'Start_Time', 'End_Time', 'Start_Lat', 'Start_Lng', 'End_Lat', 'End_Lng', 'Distance(mi)', 'Description', 'Street', 'City', 'County', 'State', 'Zipcode', 'Country', 'Timezone', 'Airport_Code', 'Weather_Timestamp', 'Temperature(F)', 'Wind_Chill(F)', 'Humidity(%)', 'Pressure(in)', 'Visibility(mi)', 'Wind_Direction', 'Wind_Speed(mph)', 'Precipitation(in)', 'Weather_Condition', 'Amenity', 'Bump', 'Crossing', 'Give_Way', 'Junction', 'No_Exit', 'Railway', 'Roundabout', 'Station', 'Stop', 'Traffic_Calming', 'Traffic_Signal', 'Turning_Loop', 'Sunrise_Sunset', 'Civil_Twilight', 'Nautical_Twilight', 'Astronomical_Twilight']\n",
      "Columns in df_cleaned (filtered DataFrame):\n",
      "['ID', 'Source', 'Severity', 'Start_Time', 'End_Time', 'Start_Lat', 'Start_Lng', 'End_Lat', 'End_Lng', 'Distance(mi)', 'Description', 'Street', 'City', 'County', 'State', 'Zipcode', 'Country', 'Timezone', 'Airport_Code', 'Weather_Timestamp', 'Temperature(F)', 'Wind_Chill(F)', 'Humidity(%)', 'Pressure(in)', 'Visibility(mi)', 'Wind_Direction', 'Wind_Speed(mph)', 'Precipitation(in)', 'Weather_Condition', 'Amenity', 'Bump', 'Crossing', 'Give_Way', 'Junction', 'No_Exit', 'Railway', 'Roundabout', 'Station', 'Stop', 'Traffic_Calming', 'Traffic_Signal', 'Turning_Loop', 'Sunrise_Sunset', 'Civil_Twilight', 'Nautical_Twilight', 'Astronomical_Twilight']\n"
     ]
    }
   ],
   "source": [
    "# Ensure you are checking the right DataFrame\n",
    "print(\"Columns in df (original DataFrame):\")\n",
    "print(df.columns)\n",
    "\n",
    "print(\"Columns in df_cleaned (filtered DataFrame):\")\n",
    "print(df_cleaned.columns)"
   ]
  },
  {
   "cell_type": "code",
   "execution_count": 19,
   "id": "abc6ddb2-db00-4488-ac16-2ffb006967da",
   "metadata": {},
   "outputs": [
    {
     "name": "stdout",
     "output_type": "stream",
     "text": [
      "+-------+--------+-------------------+-------------------+------------------+-------------------+------------+---------------+-------------+------+-----+----------+-------+--------------+---------------+-----------------+-----------------+--------+--------+-----+--------------+--------------+\n",
      "|     ID|Severity|         Start_Time|           End_Time|         Start_Lat|          Start_Lng|Distance(mi)|         Street|         City|County|State|   Zipcode|Country|Visibility(mi)|Wind_Speed(mph)|Precipitation(in)|Weather_Condition|Crossing|Junction| Stop|Traffic_Signal|Sunrise_Sunset|\n",
      "+-------+--------+-------------------+-------------------+------------------+-------------------+------------+---------------+-------------+------+-----+----------+-------+--------------+---------------+-----------------+-----------------+--------+--------+-----+--------------+--------------+\n",
      "|A-42872|       2|2016-06-21 09:31:44|2016-06-21 11:00:00|         33.797401|-117.87716699999999|         0.0|        CA-57 N|       Orange|Orange|   CA|     92868|     US|          10.0|           11.5|             NULL| Scattered Clouds|   false|   false|false|         false|           Day|\n",
      "|A-42873|       2|2016-06-21 10:39:46|2016-06-21 11:20:00|         33.759735|        -117.834053|         0.0|      E 17th St|    Santa Ana|Orange|   CA|92705-8609|     US|          10.0|           16.1|             NULL|    Mostly Cloudy|   false|   false|false|          true|           Day|\n",
      "|A-42901|       2|2016-06-21 11:34:18|2016-06-21 12:04:18|         33.779545|-117.85203600000001|         0.0|    E River Ave|       Orange|Orange|   CA|92866-3006|     US|          10.0|           16.1|             NULL|    Mostly Cloudy|   false|   false|false|         false|           Day|\n",
      "|A-42902|       2|2016-06-21 11:34:51|2016-06-21 12:04:51|         33.849445|-117.83486200000002|         0.0|        CA-91 W|      Anaheim|Orange|   CA|     92807|     US|          10.0|            8.1|             NULL|            Clear|   false|   false|false|         false|           Day|\n",
      "|A-42903|       3|2016-06-21 11:33:12|2016-06-21 12:03:12|         33.730778|        -117.811539|         0.0|Santa Ana Fwy S|       Tustin|Orange|   CA|     92780|     US|          10.0|           16.1|             NULL|    Mostly Cloudy|   false|   false|false|         false|           Day|\n",
      "|A-42908|       2|2016-06-21 11:56:25|2016-06-21 12:33:00|         33.856064|-118.01509899999999|         0.0|  Artesia Fwy W|   Buena Park|Orange|   CA|     90620|     US|          10.0|            8.1|             NULL|            Clear|   false|   false|false|         false|           Day|\n",
      "|A-42909|       3|2016-06-21 11:55:22|2016-06-21 12:30:00|         33.733658|        -117.815247|         0.0|   Red Hill Ave|       Tustin|Orange|   CA|     92780|     US|          10.0|           16.1|             NULL|    Mostly Cloudy|   false|   false|false|          true|           Day|\n",
      "|A-42935|       2|2016-06-21 12:33:37|2016-06-21 13:12:00|         33.854214|        -117.941666|         0.0|      Euclid St|      Anaheim|Orange|   CA|     92801|     US|          10.0|           10.4|             NULL|            Clear|   false|   false|false|         false|           Day|\n",
      "|A-42936|       3|2016-06-21 12:32:04|2016-06-21 13:09:00|         33.778831|        -117.876724|         0.0|Santa Ana Fwy S|    Santa Ana|Orange|   CA|     92706|     US|          10.0|           17.3|             NULL|    Mostly Cloudy|   false|    true|false|         false|           Day|\n",
      "|A-42937|       2|2016-06-21 12:32:55|2016-06-21 13:15:00|         33.843224|        -117.876198|         0.0|        CA-57 S|      Anaheim|Orange|   CA|     92806|     US|          10.0|           10.4|             NULL|            Clear|   false|    true|false|         false|           Day|\n",
      "|A-42938|       3|2016-06-21 12:34:22|2016-06-21 13:14:00|33.669121000000004|        -117.822075|         0.0|        I-405 S|       Irvine|Orange|   CA|     92612|     US|          10.0|           17.3|             NULL|    Mostly Cloudy|   false|   false|false|         false|           Day|\n",
      "|A-43009|       2|2016-06-21 16:00:13|2016-06-21 16:45:13|         33.910786|        -117.880096|         0.0|  Associated Rd|    Fullerton|Orange|   CA|92835-2378|     US|          10.0|            9.2|             NULL|            Clear|   false|   false|false|          true|           Day|\n",
      "|A-43015|       3|2016-06-21 16:15:05|2016-06-21 17:00:05|33.748051000000004|        -117.842995|         0.0|          I-5 N|    Santa Ana|Orange|   CA|     92705|     US|          10.0|            9.2|             NULL|    Mostly Cloudy|   false|   false|false|          true|           Day|\n",
      "|A-43037|       3|2016-06-21 17:25:45|2016-06-21 18:10:45|          33.64468|-117.73496200000001|         0.0|          I-5 N|       Irvine|Orange|   CA|     92618|     US|          10.0|            9.2|             NULL|    Mostly Cloudy|   false|   false|false|         false|           Day|\n",
      "|A-43079|       2|2016-06-21 18:44:58|2016-06-21 19:29:58|         33.938869|-117.87683899999999|         0.0|        CA-57 N|         Brea|Orange|   CA|     92821|     US|          10.0|           NULL|             NULL|            Clear|   false|   false|false|         false|           Day|\n",
      "|A-43090|       3|2016-06-21 19:31:20|2016-06-21 20:16:20|         33.759808|-118.02471200000001|         0.0|  Springdale St|  Westminster|Orange|   CA|     92683|     US|          10.0|            5.8|             NULL|    Partly Cloudy|   false|   false|false|          true|           Day|\n",
      "|A-43091|       3|2016-06-21 19:30:23|2016-06-21 20:15:23|         33.747051|        -118.007446|         0.0|        I-405 N|  Westminster|Orange|   CA|     92683|     US|          10.0|            5.8|             NULL|    Partly Cloudy|   false|   false|false|         false|           Day|\n",
      "|A-43105|       2|2016-06-21 20:00:37|2016-06-21 20:45:37|         33.779064|        -117.878731|         0.0|        CA-22 W|       Orange|Orange|   CA|     92868|     US|          10.0|            6.9|             NULL| Scattered Clouds|   false|   false|false|         false|           Day|\n",
      "|A-43106|       2|2016-06-21 19:50:51|2016-06-21 20:50:51|         33.778187|         -117.87043|         0.0|        CA-22 E|       Orange|Orange|   CA|     92868|     US|          10.0|            6.9|             NULL| Scattered Clouds|   false|   false|false|         false|           Day|\n",
      "|A-43109|       3|2016-06-21 19:59:32|2016-06-21 20:44:32|33.544230999999996|-117.67327900000001|         0.0|          I-5 N|Mission Viejo|Orange|   CA|     92692|     US|          10.0|            6.9|             NULL| Scattered Clouds|   false|   false|false|         false|           Day|\n",
      "+-------+--------+-------------------+-------------------+------------------+-------------------+------------+---------------+-------------+------+-----+----------+-------+--------------+---------------+-----------------+-----------------+--------+--------+-----+--------------+--------------+\n",
      "only showing top 20 rows\n",
      "\n",
      "Columns remaining in the cleaned DataFrame:\n",
      "['ID', 'Severity', 'Start_Time', 'End_Time', 'Start_Lat', 'Start_Lng', 'Distance(mi)', 'Street', 'City', 'County', 'State', 'Zipcode', 'Country', 'Visibility(mi)', 'Wind_Speed(mph)', 'Precipitation(in)', 'Weather_Condition', 'Crossing', 'Junction', 'Stop', 'Traffic_Signal', 'Sunrise_Sunset']\n"
     ]
    }
   ],
   "source": [
    "# List of columns to drop\n",
    "columns_to_drop = [\n",
    "    \"Astronomical_Twilight\",\n",
    "    \"Nautical_Twilight\",\n",
    "    \"Civil_Twilight\",\n",
    "    \"Wind_Direction\",\n",
    "    \"Pressure(in)\",\n",
    "    \"Humidity(%)\",\n",
    "    \"Wind_Chill(F)\",\n",
    "    \"Temperature(F)\",\n",
    "    \"Airport_Code\",\n",
    "    \"Railway\",\n",
    "    \"End_Lng\",\n",
    "    \"End_Lat\",\n",
    "    \"Source\",\n",
    "    \"Description\",\n",
    "    \"Timezone\",\n",
    "    \"Weather_Timestamp\",\n",
    "    \"Amenity\",\n",
    "    \"Bump\",\n",
    "    \"Give_Way\",\n",
    "    \"Roundabout\",\n",
    "    \"Station\",\n",
    "    \"Traffic_Calming\",\n",
    "    \"Turning_Loop\",\n",
    "    \"No_Exit\"\n",
    "]\n",
    "\n",
    "# Drop the specified columns\n",
    "df_cleaned = df_cleaned.drop(*columns_to_drop)\n",
    "\n",
    "# Show the cleaned DataFrame content\n",
    "df_cleaned.show()\n",
    "\n",
    "# Optionally, you can verify the remaining columns\n",
    "print(\"Columns remaining in the cleaned DataFrame:\")\n",
    "print(df_cleaned.columns)"
   ]
  },
  {
   "cell_type": "code",
   "execution_count": 20,
   "id": "f1876833-4f15-4a12-91a1-94d722b637ee",
   "metadata": {},
   "outputs": [
    {
     "ename": "SyntaxError",
     "evalue": "unexpected character after line continuation character (4127394012.py, line 6)",
     "output_type": "error",
     "traceback": [
      "\u001b[0;36m  Cell \u001b[0;32mIn[20], line 6\u001b[0;36m\u001b[0m\n\u001b[0;31m    .mode(\"overwrite\") \\  # Use \"overwrite\" to replace any existing file with the same name\u001b[0m\n\u001b[0m                                           ^\u001b[0m\n\u001b[0;31mSyntaxError\u001b[0m\u001b[0;31m:\u001b[0m unexpected character after line continuation character\n"
     ]
    }
   ],
   "source": [
    "# Define the S3 path to save the cleaned DataFrame\n",
    "s3_path = \"s3a://your-bucket-name/cleaned_data.csv\"  # Replace with your actual S3 bucket name and desired file name\n",
    "\n",
    "# Write the DataFrame to S3 as a CSV file\n",
    "df_cleaned.write \\\n",
    "    .mode(\"overwrite\") \\  # Use \"overwrite\" to replace any existing file with the same name\n",
    "    .option(\"header\", \"true\") \\  # Include the header row\n",
    "    .csv(s3_path)\n",
    "\n",
    "print(\"Cleaned DataFrame has been saved to S3 as a CSV file.\")"
   ]
  },
  {
   "cell_type": "code",
   "execution_count": 21,
   "id": "b1d134dc-3a82-4ec1-8707-6185df6dadea",
   "metadata": {},
   "outputs": [
    {
     "name": "stderr",
     "output_type": "stream",
     "text": [
      "24/08/05 01:38:58 WARN AbstractS3ACommitterFactory: Using standard FileOutputCommitter to commit work. This is slow and potentially unsafe.\n",
      "24/08/05 01:38:59 WARN AbstractS3ACommitterFactory: Using standard FileOutputCommitter to commit work. This is slow and potentially unsafe.\n",
      "24/08/05 01:38:59 WARN AbstractS3ACommitterFactory: Using standard FileOutputCommitter to commit work. This is slow and potentially unsafe.\n",
      "24/08/05 01:39:04 WARN AbstractS3ACommitterFactory: Using standard FileOutputCommitter to commit work. This is slow and potentially unsafe.\n",
      "24/08/05 01:39:04 WARN AbstractS3ACommitterFactory: Using standard FileOutputCommitter to commit work. This is slow and potentially unsafe.\n",
      "24/08/05 01:39:08 WARN AbstractS3ACommitterFactory: Using standard FileOutputCommitter to commit work. This is slow and potentially unsafe.\n",
      "24/08/05 01:39:08 WARN AbstractS3ACommitterFactory: Using standard FileOutputCommitter to commit work. This is slow and potentially unsafe.\n",
      "24/08/05 01:39:11 WARN AbstractS3ACommitterFactory: Using standard FileOutputCommitter to commit work. This is slow and potentially unsafe.\n",
      "24/08/05 01:39:12 WARN AbstractS3ACommitterFactory: Using standard FileOutputCommitter to commit work. This is slow and potentially unsafe.\n",
      "24/08/05 01:39:15 WARN AbstractS3ACommitterFactory: Using standard FileOutputCommitter to commit work. This is slow and potentially unsafe.\n",
      "24/08/05 01:39:15 WARN AbstractS3ACommitterFactory: Using standard FileOutputCommitter to commit work. This is slow and potentially unsafe.\n",
      "24/08/05 01:39:19 WARN AbstractS3ACommitterFactory: Using standard FileOutputCommitter to commit work. This is slow and potentially unsafe.\n",
      "24/08/05 01:39:20 WARN AbstractS3ACommitterFactory: Using standard FileOutputCommitter to commit work. This is slow and potentially unsafe.\n",
      "24/08/05 01:39:23 WARN AbstractS3ACommitterFactory: Using standard FileOutputCommitter to commit work. This is slow and potentially unsafe.\n",
      "24/08/05 01:39:24 WARN AbstractS3ACommitterFactory: Using standard FileOutputCommitter to commit work. This is slow and potentially unsafe.\n",
      "24/08/05 01:39:27 WARN AbstractS3ACommitterFactory: Using standard FileOutputCommitter to commit work. This is slow and potentially unsafe.\n",
      "24/08/05 01:39:28 WARN AbstractS3ACommitterFactory: Using standard FileOutputCommitter to commit work. This is slow and potentially unsafe.\n",
      "24/08/05 01:39:31 WARN AbstractS3ACommitterFactory: Using standard FileOutputCommitter to commit work. This is slow and potentially unsafe.\n",
      "24/08/05 01:39:32 WARN AbstractS3ACommitterFactory: Using standard FileOutputCommitter to commit work. This is slow and potentially unsafe.\n",
      "24/08/05 01:39:35 WARN AbstractS3ACommitterFactory: Using standard FileOutputCommitter to commit work. This is slow and potentially unsafe.\n",
      "24/08/05 01:39:37 WARN AbstractS3ACommitterFactory: Using standard FileOutputCommitter to commit work. This is slow and potentially unsafe.\n",
      "24/08/05 01:39:39 WARN AbstractS3ACommitterFactory: Using standard FileOutputCommitter to commit work. This is slow and potentially unsafe.\n",
      "24/08/05 01:39:41 WARN AbstractS3ACommitterFactory: Using standard FileOutputCommitter to commit work. This is slow and potentially unsafe.\n",
      "24/08/05 01:39:43 WARN AbstractS3ACommitterFactory: Using standard FileOutputCommitter to commit work. This is slow and potentially unsafe.\n",
      "                                                                                \r"
     ]
    },
    {
     "name": "stdout",
     "output_type": "stream",
     "text": [
      "Cleaned DataFrame has been saved to S3 as a CSV file.\n"
     ]
    }
   ],
   "source": [
    "# Define the S3 path to save the cleaned DataFrame\n",
    "s3_path = \"s3a://final-project-group-14/cleaned_data.csv\"  # Replace with your actual S3 bucket name and desired file name\n",
    "\n",
    "# Write the DataFrame to S3 as a CSV file\n",
    "df_cleaned.write \\\n",
    "    .mode(\"overwrite\") \\\n",
    "    .option(\"header\", \"true\") \\\n",
    "    .csv(s3_path)\n",
    "\n",
    "print(\"Cleaned DataFrame has been saved to S3 as a CSV file.\")\n"
   ]
  },
  {
   "cell_type": "code",
   "execution_count": 23,
   "id": "2bbbcbec-e7c9-4b1e-830f-b15b51b492e7",
   "metadata": {},
   "outputs": [
    {
     "ename": "SyntaxError",
     "evalue": "unexpected character after line continuation character (4211049412.py, line 9)",
     "output_type": "error",
     "traceback": [
      "\u001b[0;36m  Cell \u001b[0;32mIn[23], line 9\u001b[0;36m\u001b[0m\n\u001b[0;31m    .mode(\"overwrite\") \\  # Use \"overwrite\" to replace any existing file with the same name\u001b[0m\n\u001b[0m                                                    ^\u001b[0m\n\u001b[0;31mSyntaxError\u001b[0m\u001b[0;31m:\u001b[0m unexpected character after line continuation character\n"
     ]
    }
   ],
   "source": [
    "# Define the S3 path to save the cleaned DataFrame\n",
    "s3_path = \"s3a://final-project-group-14/cleaned_data.csv\"  # Replace with your actual S3 bucket name and desired file name\n",
    "\n",
    "# Coalesce the DataFrame to a single partition\n",
    "df_single_partition = df_cleaned.coalesce(1)\n",
    "\n",
    "# Write the DataFrame to S3 as a CSV file\n",
    "df_single_partition.write \\\n",
    "    .mode(\"overwrite\") \\  # Use \"overwrite\" to replace any existing file with the same name\n",
    "    .option(\"header\", \"true\") \\  # Include the header row\n",
    "    .csv(s3_path)\n",
    "\n",
    "print(\"Cleaned DataFrame has been saved to S3 as a single CSV file.\")"
   ]
  },
  {
   "cell_type": "code",
   "execution_count": 25,
   "id": "867e0163-6572-4559-bc39-3af357b1eac1",
   "metadata": {},
   "outputs": [
    {
     "name": "stderr",
     "output_type": "stream",
     "text": [
      "24/08/05 02:01:44 WARN AbstractS3ACommitterFactory: Using standard FileOutputCommitter to commit work. This is slow and potentially unsafe.\n",
      "24/08/05 02:01:44 WARN AbstractS3ACommitterFactory: Using standard FileOutputCommitter to commit work. This is slow and potentially unsafe.\n",
      "                                                                                \r"
     ]
    },
    {
     "name": "stdout",
     "output_type": "stream",
     "text": [
      "Cleaned DataFrame has been saved to S3 as a single CSV file.\n"
     ]
    }
   ],
   "source": [
    "# Define the S3 path to save the cleaned DataFrame\n",
    "s3_path = \"s3a://final-project-group-14/cleaned_data.csv\"  # Replace with your actual S3 bucket name and desired file name\n",
    "\n",
    "# Coalesce the DataFrame to a single partition\n",
    "df_single_partition = df_cleaned.coalesce(1)\n",
    "\n",
    "# Write the DataFrame to S3 as a CSV file\n",
    "df_single_partition.write \\\n",
    "    .mode(\"overwrite\") \\\n",
    "    .option(\"header\", \"true\") \\\n",
    "    .csv(s3_path)\n",
    "\n",
    "print(\"Cleaned DataFrame has been saved to S3 as a single CSV file.\")"
   ]
  },
  {
   "cell_type": "code",
   "execution_count": 26,
   "id": "74f5eb74-b749-41f8-95a3-c1185007e258",
   "metadata": {},
   "outputs": [
    {
     "name": "stderr",
     "output_type": "stream",
     "text": [
      "24/08/05 02:14:25 WARN SparkSession: Using an existing Spark session; only runtime SQL configurations will take effect.\n",
      "                                                                                \r"
     ]
    }
   ],
   "source": [
    "from pyspark.sql import SparkSession\n",
    "\n",
    "# Initialize Spark session\n",
    "spark = SparkSession.builder \\\n",
    "    .appName(\"Traffic Data Wrangling\") \\\n",
    "    .getOrCreate()\n",
    "\n",
    "# Load the cleaned data\n",
    "df = spark.read.csv(\"s3a://final-project-group-14/cleaned_traffic_data.csv\", header=True, inferSchema=True)"
   ]
  },
  {
   "cell_type": "code",
   "execution_count": null,
   "id": "a231ce10-f368-4e94-bb88-8ed3d4937652",
   "metadata": {},
   "outputs": [],
   "source": []
  }
 ],
 "metadata": {
  "kernelspec": {
   "display_name": "Python 3 (ipykernel)",
   "language": "python",
   "name": "python3"
  },
  "language_info": {
   "codemirror_mode": {
    "name": "ipython",
    "version": 3
   },
   "file_extension": ".py",
   "mimetype": "text/x-python",
   "name": "python",
   "nbconvert_exporter": "python",
   "pygments_lexer": "ipython3",
   "version": "3.12.3"
  }
 },
 "nbformat": 4,
 "nbformat_minor": 5
}
